{
  "nbformat": 4,
  "nbformat_minor": 0,
  "metadata": {
    "colab": {
      "name": "Meta-baseline-fcanet.ipynb",
      "provenance": [],
      "authorship_tag": "ABX9TyMJMyRUW0vTzMT7cYZBXxmQ",
      "include_colab_link": true
    },
    "kernelspec": {
      "name": "python3",
      "display_name": "Python 3"
    },
    "language_info": {
      "name": "python"
    }
  },
  "cells": [
    {
      "cell_type": "markdown",
      "metadata": {
        "id": "view-in-github",
        "colab_type": "text"
      },
      "source": [
        "<a href=\"https://colab.research.google.com/github/Jf-Chen/notebook/blob/main/Meta_baseline_fcanet.ipynb\" target=\"_parent\"><img src=\"https://colab.research.google.com/assets/colab-badge.svg\" alt=\"Open In Colab\"/></a>"
      ]
    },
    {
      "cell_type": "code",
      "metadata": {
        "id": "KDkoDGieqxQS"
      },
      "source": [
        "# 需要装载drive\n",
        "\n",
        "#------------------------------命名---------------------------------#\n",
        "baseline_floader=\"baseline\"\n",
        "method_floader=\"meta-baseline-fcanet\"\n",
        "drive_baseline_floader=\"Meta-baseline\"\n",
        "drive_method_floader=\"meta-baseline-fcanet\"\n",
        "\n",
        "\n",
        "#----------------------------下载代码----------------------------------#\n",
        "%cd /content\n",
        "!echo \"下载代码\"\n",
        "!git clone https://github.com/Jf-Chen/baseline.git\n",
        "%cd /content/$baseline_floader\n",
        "#----------------------------从云盘装载数据集----------------------------#\n",
        "data_path=\"/content/%s/%s/materials\"%(baseline_floader,method_floader)\n",
        "!echo \"从google drive装载\"\n",
        "%cd $data_path\n",
        "!cp /content/drive/MyDrive/few_shot_meta_baseline/materials/miniImageNet.zip $data_path\n",
        "!unzip miniImageNet.zip -d ./mini-imagenet\n",
        "!echo \"data_path/mini-ImageNet 装载、解压完成\"\n",
        "#---------------end------------------------\n",
        "!echo \"准备环境\"\n",
        "!pip3 install tensorboardX\n",
        "!pip3 install -U PyYAML\n",
        "!echo \"已安装\"\n",
        "\n",
        "\n",
        "\n",
        "\n"
      ],
      "execution_count": null,
      "outputs": []
    },
    {
      "cell_type": "code",
      "metadata": {
        "id": "fUVZgh2Sq1Kg"
      },
      "source": [
        "#############  train classifer  ############# \n",
        "baseline_floader=\"baseline\"\n",
        "method_floader=\"meta-baseline-fcanet\"\n",
        "drive_baseline_floader=\"Meta-baseline\"\n",
        "drive_method_floader=\"meta-baseline-fcanet\"\n",
        "\n",
        "from datetime import datetime\n",
        "now = datetime.now() # current date and time\n",
        "current_time= now.strftime(\"%YY-%mM-%dD-%HH-%MMinu\")\n",
        "print(\"current_time==\",current_time)\n",
        "\n",
        "%cd /content/$baseline_floader/$method_floader\n",
        "!chmod +x /content/$baseline_floader/$method_floader/train_classifier.py\n",
        "!python train_classifier.py --gpu 0 --config ./configs/train_classifier_mini.yaml\n",
        "\n",
        "%cd /content/$baseline_floader/$method_floader\n",
        "#---------相对路径写法-------#\n",
        "stage=\"train-classifer\"\n",
        "!tar -czf save.tar.gz ./save\n",
        "drive_save_path= \"/content/drive/MyDrive/%s/%s/%s/%s\" %(drive_baseline_floader,drive_method_floader,stage,current_time)\n",
        "!mkdir -p drive_save_path\n",
        "!cp save.tar.gz $drive_save_path\n"
      ],
      "execution_count": null,
      "outputs": []
    },
    {
      "cell_type": "code",
      "metadata": {
        "id": "3uxa6kJQq2Ko"
      },
      "source": [
        "#############   meta train  ############# "
      ],
      "execution_count": null,
      "outputs": []
    }
  ]
}